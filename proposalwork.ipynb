{
 "cells": [
  {
   "cell_type": "markdown",
   "id": "4f5e4460-efbf-4d6f-a2bc-97c0afc9acc1",
   "metadata": {},
   "source": [
    "# Project Proposal"
   ]
  },
  {
   "cell_type": "code",
   "execution_count": 2,
   "id": "60af6111-4bb1-4e8b-a517-9e8161496d1c",
   "metadata": {},
   "outputs": [
    {
     "name": "stderr",
     "output_type": "stream",
     "text": [
      "\u001b[1mRows: \u001b[22m\u001b[34m303\u001b[39m \u001b[1mColumns: \u001b[22m\u001b[34m14\u001b[39m\n",
      "\u001b[36m──\u001b[39m \u001b[1mColumn specification\u001b[22m \u001b[36m────────────────────────────────────────────────────────\u001b[39m\n",
      "\u001b[1mDelimiter:\u001b[22m \",\"\n",
      "\u001b[31mchr\u001b[39m  (2): X12, X13\n",
      "\u001b[32mdbl\u001b[39m (12): X1, X2, X3, X4, X5, X6, X7, X8, X9, X10, X11, X14\n",
      "\n",
      "\u001b[36mℹ\u001b[39m Use `spec()` to retrieve the full column specification for this data.\n",
      "\u001b[36mℹ\u001b[39m Specify the column types or set `show_col_types = FALSE` to quiet this message.\n",
      "ERROR while rich displaying an object: Error in Resting_Blood_Pressure(mmHg): could not find function \"Resting_Blood_Pressure\"\n",
      "\n",
      "Traceback:\n",
      "1. tryCatch(withCallingHandlers({\n",
      " .     if (!mime %in% names(repr::mime2repr)) \n",
      " .         stop(\"No repr_* for mimetype \", mime, \" in repr::mime2repr\")\n",
      " .     rpr <- repr::mime2repr[[mime]](obj)\n",
      " .     if (is.null(rpr)) \n",
      " .         return(NULL)\n",
      " .     prepare_content(is.raw(rpr), rpr)\n",
      " . }, error = error_handler), error = outer_handler)\n",
      "2. tryCatchList(expr, classes, parentenv, handlers)\n",
      "3. tryCatchOne(expr, names, parentenv, handlers[[1L]])\n",
      "4. doTryCatch(return(expr), name, parentenv, handler)\n",
      "5. withCallingHandlers({\n",
      " .     if (!mime %in% names(repr::mime2repr)) \n",
      " .         stop(\"No repr_* for mimetype \", mime, \" in repr::mime2repr\")\n",
      " .     rpr <- repr::mime2repr[[mime]](obj)\n",
      " .     if (is.null(rpr)) \n",
      " .         return(NULL)\n",
      " .     prepare_content(is.raw(rpr), rpr)\n",
      " . }, error = error_handler)\n",
      "6. repr::mime2repr[[mime]](obj)\n",
      "7. repr_text.default(obj)\n",
      "8. paste(capture.output(print(obj)), collapse = \"\\n\")\n",
      "9. capture.output(print(obj))\n",
      "10. withVisible(...elt(i))\n",
      "11. print(obj)\n",
      "12. print.ggplot(obj)\n",
      "13. ggplot_build(x)\n",
      "14. ggplot_build.ggplot(x)\n",
      "15. by_layer(function(l, d) l$compute_aesthetics(d, plot))\n",
      "16. f(l = layers[[i]], d = data[[i]])\n",
      "17. l$compute_aesthetics(d, plot)\n",
      "18. f(..., self = self)\n",
      "19. lapply(aesthetics, eval_tidy, data = data, env = env)\n",
      "20. FUN(X[[i]], ...)\n"
     ]
    },
    {
     "data": {
      "image/png": "[encoded data removed]",
      "text/plain": [
       "plot without title"
      ]
     },
     "metadata": {
      "image/png": {
       "height": 420,
       "width": 420
      }
     },
     "output_type": "display_data"
    }
   ],
   "source": [
    "library(tidyverse)\n",
    "library(repr)\n",
    "library(tidymodels)\n",
    "options(repr.matrix.max.rows = 6)\n",
    "library(ggplot2)\n",
    "heart_data <- read_delim(\"processed.cleveland.data\", delim = \",\", col_names = FALSE)\n",
    "colnames(heart_data)[1]=\"Age\"\n",
    "colnames(heart_data)[2]=\"Sex\"\n",
    "colnames(heart_data)[3]=\"Chest_Pain_Type\"\n",
    "colnames(heart_data)[4]=\"Resting_Blood_Pressure(mmHg)\"\n",
    "colnames(heart_data)[5]=\"Cholesterol(mg/dl)\"\n",
    "colnames(heart_data)[6]=\"Fasting_Blood_Sugar\"\n",
    "colnames(heart_data)[7]=\"Resting_Electrocardiographic_Results\"\n",
    "colnames(heart_data)[8]=\"Max_Heart_Rate\"\n",
    "colnames(heart_data)[9]=\"Exercised_Induced_Angina\"\n",
    "colnames(heart_data)[10]=\"ST_Depression\"\n",
    "colnames(heart_data)[11]=\"Exercise_Slope\"\n",
    "colnames(heart_data)[12]=\"Number_Major_Vessels\"\n",
    "colnames(heart_data)[13]=\"Thal\"\n",
    "colnames(heart_data)[14]=\"Diagnosis\"\n",
    "heart_split <- initial_split(heart_data, prop = 0.75, strata = Diagnosis)\n",
    "heart_train <- training(heart_split)\n",
    "heart_test <- testing(heart_split)\n",
    "heart_factor<-ggplot(heart_train, aes(x= Resting_Blood_Pressure(mmHg), y=Diagnosis))+\n",
    "geom_histogram()+\n",
    "labs(x=\"Age\", y=\"Heart Disease Severity\")+\n",
    "  theme(text = element_text(size = 12)) +\n",
    "scale_x_log10(labels = label_comma()) +\n",
    "  scale_y_log10(labels = label_comma)\n",
    "heart_factor\n",
    " \n"
   ]
  },
  {
   "cell_type": "markdown",
   "id": "ac712abf-b419-413b-9410-d55a505aa174",
   "metadata": {},
   "source": [
    "# Introduction"
   ]
  },
  {
   "cell_type": "markdown",
   "id": "5185b56c-7fa9-45b1-bffc-f527d757852b",
   "metadata": {},
   "source": [
    "Heart disease is the leading cause of death in the US, with one death every 34 seconds (1). Cardiovascular disease research is crucial in helping scientists understand more about heart diseases, and in finding ways to prevent and treat them. \n",
    "\n",
    "In our project, we will use the variables age and cholestrol levels as predictors to build a classification model that predicts the prevelance of heart disease in a new data point(a new individual). We will be using the processed Cleveland data set which is part of the UCI Machine Learning Repository's Heart Disease Data Set, as the repository labels this data set as the processed data set used by machine learning researchers. The data set contains 14 variables, including the prevelance of heart disease.\n",
    "\n",
    " "
   ]
  },
  {
   "cell_type": "markdown",
   "id": "c022f59e-b9a0-46ad-886a-c5eac2a34ccf",
   "metadata": {},
   "source": [
    "# References "
   ]
  },
  {
   "cell_type": "markdown",
   "id": "d5f180b4-31a7-45c4-9c36-3b9ce4dd4a3b",
   "metadata": {},
   "source": [
    "(1) Centers for Disease Control and Prevention, National Center for Health Statistics. About Multiple Cause of Death, 1999–2020. CDC WONDER Online Database website. Atlanta, GA: Centers for Disease Control and Prevention; 2022. Accessed February 21, 2022"
   ]
  },
  {
   "cell_type": "code",
   "execution_count": null,
   "id": "845c5b8c-b719-42a3-bf79-adb43208b1db",
   "metadata": {},
   "outputs": [],
   "source": []
  }
 ],
 "metadata": {
  "kernelspec": {
   "display_name": "R",
   "language": "R",
   "name": "ir"
  },
  "language_info": {
   "codemirror_mode": "r",
   "file_extension": ".r",
   "mimetype": "text/x-r-source",
   "name": "R",
   "pygments_lexer": "r",
   "version": "4.1.3"
  }
 },
 "nbformat": 4,
 "nbformat_minor": 5
}
